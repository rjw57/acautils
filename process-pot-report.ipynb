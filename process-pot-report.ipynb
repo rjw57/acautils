{
 "metadata": {
  "name": "process-pot-report"
 },
 "nbformat": 3,
 "nbformat_minor": 0,
 "worksheets": [
  {
   "cells": [
    {
     "cell_type": "code",
     "collapsed": false,
     "input": [
      "import csv\n",
      "\n",
      "%pylab\n",
      "import numpy as np"
     ],
     "language": "python",
     "metadata": {},
     "outputs": [
      {
       "output_type": "stream",
       "stream": "stdout",
       "text": [
        "\n",
        "Welcome to pylab, a matplotlib-based Python environment [backend: Qt4Agg].\n",
        "For more information, type 'help(pylab)'.\n"
       ]
      }
     ],
     "prompt_number": 102
    },
    {
     "cell_type": "code",
     "collapsed": false,
     "input": [
      "lows = []\n",
      "highs = []\n",
      "nos = []\n",
      "wts = []\n",
      "\n",
      "with open('pot_reports.csv') as f:\n",
      "    r = csv.reader(f)\n",
      "    headings = r.next()\n",
      "    for source, pit, ctx, low, high, type_, no, wt in r:\n",
      "        low = int(low)\n",
      "        high = int(high)\n",
      "        if low < 2012 and high < 2012:\n",
      "            lows.append(low)\n",
      "            highs.append(high)\n",
      "            nos.append(int(no))\n",
      "            wts.append(int(wt))\n",
      "\n",
      "lows = np.array(lows, dtype=np.float32)\n",
      "highs = np.array(highs, dtype=np.float32)\n",
      "nos = np.array(nos, dtype=np.float32)\n",
      "wts = np.array(wts, dtype=np.float32)"
     ],
     "language": "python",
     "metadata": {},
     "outputs": [],
     "prompt_number": 103
    },
    {
     "cell_type": "code",
     "collapsed": false,
     "input": [
      "min_year = int(np.min(lows))\n",
      "max_year = int(np.max(highs))\n",
      "n_years = 1 + max_year - min_year\n",
      "rel_nos = np.zeros((n_years,))\n",
      "rel_wts = np.zeros((n_years,))\n",
      "\n",
      "for h, l, wt, no in zip(highs, lows, wts, nos):\n",
      "    d = h - l\n",
      "    rel_nos[int(l-min_year):int(h-min_year)] += no / d\n",
      "    rel_wts[int(l-min_year):int(h-min_year)] += wt / d\n",
      "\n",
      "rel_nos /= np.max(rel_nos)\n",
      "rel_wts /= np.max(rel_wts)"
     ],
     "language": "python",
     "metadata": {},
     "outputs": [],
     "prompt_number": 110
    },
    {
     "cell_type": "code",
     "collapsed": false,
     "input": [
      "clf()\n",
      "plot(2012-np.arange(min_year, max_year+1), np.array([rel_nos, rel_wts]).transpose())\n",
      "yscale('log')\n",
      "#xscale('log')\n",
      "xlabel('Age (years)')\n",
      "ylabel('Relative abundance')\n",
      "title('Relative abundance of pottery finds vs. age for ACA test pits')\n",
      "grid('on')\n",
      "legend(('Sherds', 'Weight'))"
     ],
     "language": "python",
     "metadata": {},
     "outputs": [
      {
       "output_type": "pyout",
       "prompt_number": 114,
       "text": [
        "<matplotlib.legend.Legend at 0x5c86410>"
       ]
      }
     ],
     "prompt_number": 114
    },
    {
     "cell_type": "code",
     "collapsed": false,
     "input": [],
     "language": "python",
     "metadata": {},
     "outputs": [],
     "prompt_number": 76
    }
   ],
   "metadata": {}
  }
 ]
}