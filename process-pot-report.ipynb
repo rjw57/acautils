{
 "metadata": {
  "name": "process-pot-report"
 },
 "nbformat": 3,
 "nbformat_minor": 0,
 "worksheets": [
  {
   "cells": [
    {
     "cell_type": "code",
     "collapsed": false,
     "input": [
      "import csv\n",
      "\n",
      "%pylab\n",
      "import numpy as np"
     ],
     "language": "python",
     "metadata": {},
     "outputs": [
      {
       "output_type": "stream",
       "stream": "stdout",
       "text": [
        "\n",
        "Welcome to pylab, a matplotlib-based Python environment [backend: Qt4Agg].\n",
        "For more information, type 'help(pylab)'.\n"
       ]
      }
     ],
     "prompt_number": 1
    },
    {
     "cell_type": "code",
     "collapsed": false,
     "input": [
      "lows = []\n",
      "highs = []\n",
      "nos = []\n",
      "wts = []\n",
      "\n",
      "with open('output/pot-reports.csv') as f:\n",
      "    r = csv.reader(f)\n",
      "    headings = r.next()\n",
      "    for source, pit, ctx, low, high, type_, no, wt in r:\n",
      "        low = int(low)\n",
      "        high = int(high)\n",
      "        if low < 2012 and high < 2012:\n",
      "            lows.append(low)\n",
      "            highs.append(high)\n",
      "            nos.append(int(no))\n",
      "            wts.append(int(wt))\n",
      "\n",
      "lows = np.array(lows, dtype=np.float32)\n",
      "highs = np.array(highs, dtype=np.float32)\n",
      "nos = np.array(nos, dtype=np.float32)\n",
      "wts = np.array(wts, dtype=np.float32)"
     ],
     "language": "python",
     "metadata": {},
     "outputs": [],
     "prompt_number": 4
    },
    {
     "cell_type": "code",
     "collapsed": false,
     "input": [
      "min_year = int(np.min(lows))\n",
      "max_year = int(np.max(highs))\n",
      "n_years = 1 + max_year - min_year\n",
      "ages = 2012-np.arange(min_year, max_year+1)\n",
      "rel_nos = np.zeros((n_years,))\n",
      "rel_wts = np.zeros((n_years,))\n",
      "samples = np.zeros((n_years,))\n",
      "\n",
      "for h, l, wt, no in zip(highs, lows, wts, nos):\n",
      "    d = h - l\n",
      "    rel_nos[int(l-min_year):int(h-min_year)] += no / d\n",
      "    rel_wts[int(l-min_year):int(h-min_year)] += wt / d\n",
      "    samples[int(l-min_year):int(h-min_year)] += 1 / d\n",
      "\n",
      "rel_nos /= np.max(rel_nos)\n",
      "rel_wts /= np.max(rel_wts)"
     ],
     "language": "python",
     "metadata": {},
     "outputs": [],
     "prompt_number": 5
    },
    {
     "cell_type": "code",
     "collapsed": false,
     "input": [
      "clf()\n",
      "plot(ages, np.array([rel_nos, rel_wts]).transpose())\n",
      "yscale('log')\n",
      "#xscale('log')\n",
      "xlabel('Age (years)')\n",
      "ylabel('Relative abundance')\n",
      "title('Relative abundance of pottery finds vs. age for ACA test pits')\n",
      "grid('on')\n",
      "legend(('Sherds', 'Weight'))"
     ],
     "language": "python",
     "metadata": {},
     "outputs": [
      {
       "output_type": "pyout",
       "prompt_number": 179,
       "text": [
        "<matplotlib.legend.Legend at 0x9fc2f90>"
       ]
      }
     ],
     "prompt_number": 179
    },
    {
     "cell_type": "code",
     "collapsed": false,
     "input": [
      "clf()\n",
      "plot(ages, rel_wts / rel_nos)\n",
      "#yscale('log')\n",
      "#xscale('log')\n",
      "xlabel('Age (years)')\n",
      "ylabel('Mean weight [g/sherd]')\n",
      "title('Mean weight per sherd vs. age for ACA test pits')\n",
      "grid('on')\n",
      "#legend(('Sherds', 'Weight'))"
     ],
     "language": "python",
     "metadata": {},
     "outputs": [],
     "prompt_number": 180
    },
    {
     "cell_type": "code",
     "collapsed": false,
     "input": [
      "from matplotlib.ticker import AutoMinorLocator"
     ],
     "language": "python",
     "metadata": {},
     "outputs": [],
     "prompt_number": 181
    },
    {
     "cell_type": "code",
     "collapsed": false,
     "input": [
      "clf()\n",
      "accuracy = np.sqrt(samples)\n",
      "accuracy /= np.max(accuracy)\n",
      "plot(ages, accuracy)\n",
      "ylabel('Relative accuracy')\n",
      "xlabel('Age [years]')\n",
      "#yscale('log')\n",
      "gca().xaxis.set_minor_locator(AutoMinorLocator(5)) \n",
      "gca().yaxis.set_minor_locator(AutoMinorLocator(5)) \n",
      "grid(True, 'both')\n",
      "title('Relative statistical accuracy vs. age for ACA sample ensemble')"
     ],
     "language": "python",
     "metadata": {},
     "outputs": [
      {
       "output_type": "pyout",
       "prompt_number": 192,
       "text": [
        "<matplotlib.text.Text at 0xb701d90>"
       ]
      }
     ],
     "prompt_number": 192
    },
    {
     "cell_type": "code",
     "collapsed": false,
     "input": [
      "clf()\n",
      "xi = ages[:-200]\n",
      "yi = np.log(samples[:-200])\n",
      "wi = 1.0 / samples[:-200] # reciprocal of the variance\n",
      "A = np.array([xi / np.sqrt(wi), np.ones(xi.shape) / np.sqrt(wi)])\n",
      "w, residues, rank, s = np.linalg.lstsq(A.T, yi / np.sqrt(wi))\n",
      "\n",
      "plot(xi, yi)\n",
      "plot(xi, w[0]*xi + w[1])\n",
      "\n",
      "# therefore samples = exp(w[0]*xi + w[1]) = K exp(w[0]*xi), K = exp(w[1])"
     ],
     "language": "python",
     "metadata": {},
     "outputs": [
      {
       "output_type": "pyout",
       "prompt_number": 244,
       "text": [
        "[<matplotlib.lines.Line2D at 0xe3dc790>]"
       ]
      }
     ],
     "prompt_number": 244
    },
    {
     "cell_type": "code",
     "collapsed": false,
     "input": [
      "np.log(0.5) / w[0]"
     ],
     "language": "python",
     "metadata": {},
     "outputs": [
      {
       "output_type": "pyout",
       "prompt_number": 245,
       "text": [
        "268.16588024410083"
       ]
      }
     ],
     "prompt_number": 245
    },
    {
     "cell_type": "code",
     "collapsed": false,
     "input": [
      "clf()\n",
      "plot(ages, samples / np.exp(w[0]*ages + w[1]))\n",
      "ylabel('Discrepancy')\n",
      "xlabel('Age [years]')\n",
      "#yscale('log')\n",
      "#gca().xaxis.set_minor_locator(AutoMinorLocator(5)) \n",
      "#gca().yaxis.set_minor_locator(AutoMinorLocator(5)) \n",
      "grid(True, 'both')\n",
      "#title('Relative statistical accuracy vs. age for ACA sample ensemble')"
     ],
     "language": "python",
     "metadata": {},
     "outputs": [],
     "prompt_number": 243
    },
    {
     "cell_type": "code",
     "collapsed": false,
     "input": [
      "clf()\n",
      "plot(residues)"
     ],
     "language": "python",
     "metadata": {},
     "outputs": [
      {
       "output_type": "pyout",
       "prompt_number": 239,
       "text": [
        "[<matplotlib.lines.Line2D at 0xe1ccc90>]"
       ]
      }
     ],
     "prompt_number": 239
    },
    {
     "cell_type": "code",
     "collapsed": false,
     "input": [
      "residues"
     ],
     "language": "python",
     "metadata": {},
     "outputs": [
      {
       "output_type": "pyout",
       "prompt_number": 240,
       "text": [
        "array([ 549.44535662])"
       ]
      }
     ],
     "prompt_number": 240
    },
    {
     "cell_type": "code",
     "collapsed": false,
     "input": [
      "s"
     ],
     "language": "python",
     "metadata": {},
     "outputs": [
      {
       "output_type": "pyout",
       "prompt_number": 242,
       "text": [
        "array([  5.82960749e+04,   4.07913785e+01])"
       ]
      }
     ],
     "prompt_number": 242
    },
    {
     "cell_type": "code",
     "collapsed": false,
     "input": [
      "lambdas = []\n",
      "for sidx in range(50000):\n",
      "    idx = np.random.randint(0, len(xi), xi.shape)\n",
      "    xis = xi[idx]\n",
      "    yis = yi[idx]\n",
      "    wis = wi[idx]\n",
      "\n",
      "    A = np.array([xis / np.sqrt(wis), np.ones(xis.shape) / np.sqrt(wis)])\n",
      "    w, residues, rank, s = np.linalg.lstsq(A.T, yis / np.sqrt(wis))\n",
      "    lambdas.append(w[0])\n",
      "    \n",
      "lambdas = np.array(lambdas)"
     ],
     "language": "python",
     "metadata": {},
     "outputs": [],
     "prompt_number": 314
    },
    {
     "cell_type": "code",
     "collapsed": false,
     "input": [
      "mu = np.mean(lambdas)\n",
      "sigma = np.std(lambdas)\n",
      "print mu, sigma"
     ],
     "language": "python",
     "metadata": {},
     "outputs": [
      {
       "output_type": "stream",
       "stream": "stdout",
       "text": [
        "-0.00258482453595 1.58092947423e-05\n"
       ]
      }
     ],
     "prompt_number": 315
    },
    {
     "cell_type": "code",
     "collapsed": false,
     "input": [
      "clf()\n",
      "d = np.log(0.5) / lambdas\n",
      "hist(d, bins=128, normed=True, histtype='bar')\n",
      "#hist(d, 64, histtype='bar')\n",
      "#axis('tight')\n",
      "title('Pottery half-life from ACA corpus')\n",
      "xlabel('Half-life')\n",
      "ylabel('Bootstrap re-sampled posterior')\n",
      "grid('on')"
     ],
     "language": "python",
     "metadata": {},
     "outputs": [],
     "prompt_number": 320
    },
    {
     "cell_type": "code",
     "collapsed": false,
     "input": [
      "clf()\n",
      "plot(hls)"
     ],
     "language": "python",
     "metadata": {},
     "outputs": [
      {
       "output_type": "pyout",
       "prompt_number": 259,
       "text": [
        "[<matplotlib.lines.Line2D at 0xec6fc10>]"
       ]
      }
     ],
     "prompt_number": 259
    },
    {
     "cell_type": "code",
     "collapsed": false,
     "input": [],
     "language": "python",
     "metadata": {},
     "outputs": []
    }
   ],
   "metadata": {}
  }
 ]
}