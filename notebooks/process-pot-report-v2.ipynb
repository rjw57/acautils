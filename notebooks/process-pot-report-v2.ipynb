{
 "metadata": {
  "name": "process-pot-report-v2"
 },
 "nbformat": 3,
 "nbformat_minor": 0,
 "worksheets": [
  {
   "cells": [
    {
     "cell_type": "code",
     "collapsed": false,
     "input": [
      "import csv\n",
      "\n",
      "%pylab\n",
      "import numpy as np"
     ],
     "language": "python",
     "metadata": {},
     "outputs": [
      {
       "output_type": "stream",
       "stream": "stdout",
       "text": [
        "\n",
        "Welcome to pylab, a matplotlib-based Python environment [backend: Qt4Agg].\n",
        "For more information, type 'help(pylab)'.\n"
       ]
      }
     ],
     "prompt_number": 1
    },
    {
     "cell_type": "code",
     "collapsed": false,
     "input": [
      "lows = []\n",
      "highs = []\n",
      "nos = []\n",
      "wts = []\n",
      "\n",
      "with open('output/pot-reports.csv') as f:\n",
      "    r = csv.reader(f)\n",
      "    headings = r.next()\n",
      "    for source, pit, ctx, low, high, type_, no, wt in r:\n",
      "        low = int(low)\n",
      "        high = int(high)\n",
      "        if low < 2012 and high < 2012:\n",
      "            lows.append(low)\n",
      "            highs.append(high)\n",
      "            nos.append(int(no))\n",
      "            wts.append(int(wt))\n",
      "\n",
      "lows = np.array(lows, dtype=np.float32)\n",
      "highs = np.array(highs, dtype=np.float32)\n",
      "nos = np.array(nos, dtype=np.float32)\n",
      "wts = np.array(wts, dtype=np.float32)"
     ],
     "language": "python",
     "metadata": {},
     "outputs": [],
     "prompt_number": 2
    },
    {
     "cell_type": "code",
     "collapsed": false,
     "input": [
      "min_year = int(np.min(lows))\n",
      "max_year = int(np.max(highs))\n",
      "print min_year, max_year"
     ],
     "language": "python",
     "metadata": {},
     "outputs": [
      {
       "output_type": "stream",
       "stream": "stdout",
       "text": [
        "-3500 1950\n"
       ]
      }
     ],
     "prompt_number": 3
    },
    {
     "cell_type": "code",
     "collapsed": false,
     "input": [
      "def raised_cosine(t, low, high):\n",
      "    mu = 0.5 * (high + low)\n",
      "    s = 0.5 * (high - low)\n",
      "    return np.where((t >= low) & (t <= high), (0.5 / s) * (1 + np.cos(np.pi * (t - mu) / s)), 0)"
     ],
     "language": "python",
     "metadata": {},
     "outputs": [],
     "prompt_number": 4
    },
    {
     "cell_type": "code",
     "collapsed": false,
     "input": [
      "def kumaraswamy(t, low, high):\n",
      "    a, b = 2.4, 2\n",
      "    range_ = high - low\n",
      "    v = (t - low) / range_\n",
      "    good = (v >= 0) & (v <= 1)\n",
      "    rv = np.zeros(t.shape)\n",
      "    rv[good] = (a*b/range_) * (v[good]**(a-1)) * (1-v[good]**a)**(b-1)\n",
      "    return rv"
     ],
     "language": "python",
     "metadata": {},
     "outputs": [],
     "prompt_number": 5
    },
    {
     "cell_type": "code",
     "collapsed": false,
     "input": [
      "x = np.linspace(0, 1, 100)\n",
      "clf()\n",
      "plot(x, kumaraswamy(x, 0, 1))\n",
      "xlabel('Date')"
     ],
     "language": "python",
     "metadata": {},
     "outputs": [
      {
       "output_type": "pyout",
       "prompt_number": 6,
       "text": [
        "<matplotlib.text.Text at 0x39a1e50>"
       ]
      }
     ],
     "prompt_number": 6
    },
    {
     "cell_type": "code",
     "collapsed": false,
     "input": [
      "years = np.arange(min_year, max_year+1)\n",
      "ages = 2012-years\n",
      "pdf = np.zeros(years.shape)\n",
      "rel_nos = np.zeros(years.shape)\n",
      "rel_wts = np.zeros(years.shape)\n",
      "\n",
      "for low, high, no, wt in zip(lows, highs, nos, wts):\n",
      "    p = kumaraswamy(years, low, high)\n",
      "    pdf += p\n",
      "    rel_nos += p * no\n",
      "    rel_wts += p * wt\n",
      "    \n",
      "#ages = ages[100:-100]\n",
      "#pdf = pdf[100:-100]\n",
      "    \n",
      "pdf /= len(lows)\n",
      "rel_nos /= len(lows)\n",
      "rel_wts /= len(lows)"
     ],
     "language": "python",
     "metadata": {},
     "outputs": [],
     "prompt_number": 26
    },
    {
     "cell_type": "code",
     "collapsed": false,
     "input": [
      "clf()\n",
      "plot(p)\n",
      "np.sum(p)"
     ],
     "language": "python",
     "metadata": {},
     "outputs": [
      {
       "output_type": "pyout",
       "prompt_number": 27,
       "text": [
        "0.99999518976034585"
       ]
      }
     ],
     "prompt_number": 27
    },
    {
     "cell_type": "code",
     "collapsed": false,
     "input": [
      "clf()\n",
      "plot(ages, pdf)\n",
      "yscale('log')\n",
      "#xscale('log')\n",
      "print(np.sum(pdf))"
     ],
     "language": "python",
     "metadata": {},
     "outputs": [
      {
       "output_type": "stream",
       "stream": "stdout",
       "text": [
        "0.997963370485\n"
       ]
      }
     ],
     "prompt_number": 28
    },
    {
     "cell_type": "code",
     "collapsed": false,
     "input": [],
     "language": "python",
     "metadata": {},
     "outputs": [],
     "prompt_number": 28
    },
    {
     "cell_type": "code",
     "collapsed": false,
     "input": [
      "clf()\n",
      "plot(ages, np.array([rel_nos / np.max(rel_nos), rel_wts / np.max(rel_wts)]).transpose())\n",
      "yscale('log')\n",
      "#xscale('log')\n",
      "xlabel('Age (years)')\n",
      "ylabel('Relative abundance')\n",
      "title('Relative abundance of pottery finds vs. age for ACA test pits')\n",
      "grid('on')\n",
      "legend(('Sherds', 'Weight'))"
     ],
     "language": "python",
     "metadata": {},
     "outputs": [
      {
       "output_type": "pyout",
       "prompt_number": 29,
       "text": [
        "<matplotlib.legend.Legend at 0x4117e90>"
       ]
      }
     ],
     "prompt_number": 29
    },
    {
     "cell_type": "code",
     "collapsed": false,
     "input": [
      "from matplotlib.ticker import AutoMinorLocator"
     ],
     "language": "python",
     "metadata": {},
     "outputs": [],
     "prompt_number": 24
    },
    {
     "cell_type": "code",
     "collapsed": false,
     "input": [
      "clf()\n",
      "accuracy = np.sqrt(rel_nos)\n",
      "accuracy /= np.max(accuracy)\n",
      "plot(ages, accuracy)\n",
      "ylabel('Relative accuracy')\n",
      "xlabel('Age [years]')\n",
      "yscale('log')\n",
      "#gca().xaxis.set_minor_locator(AutoMinorLocator(5)) \n",
      "#gca().yaxis.set_minor_locator(AutoMinorLocator(5)) \n",
      "grid(True, 'both')\n",
      "title('Relative statistical accuracy vs. age for ACA sample ensemble')"
     ],
     "language": "python",
     "metadata": {},
     "outputs": [
      {
       "output_type": "pyout",
       "prompt_number": 37,
       "text": [
        "<matplotlib.text.Text at 0x548b610>"
       ]
      }
     ],
     "prompt_number": 37
    },
    {
     "cell_type": "code",
     "collapsed": false,
     "input": [
      "clf()\n",
      "good = rel_nos > 1e-3\n",
      "xi = ages[good]\n",
      "yi = np.log(pdf[good])# - ages[good]/2000.0\n",
      "wi = 1.0 / rel_nos[good] # reciprocal of the variance\n",
      "A = np.array([xi / np.sqrt(wi), np.ones(xi.shape) / np.sqrt(wi)])\n",
      "w, residues, rank, s = np.linalg.lstsq(A.T, yi / np.sqrt(wi))\n",
      "\n",
      "plot(xi, yi)\n",
      "plot(xi, w[0]*xi + w[1])\n",
      "\n",
      "# therefore samples = exp(w[0]*xi + w[1]) = K exp(w[0]*xi), K = exp(w[1])"
     ],
     "language": "python",
     "metadata": {},
     "outputs": [
      {
       "output_type": "pyout",
       "prompt_number": 149,
       "text": [
        "[<matplotlib.lines.Line2D at 0xa1effd0>]"
       ]
      }
     ],
     "prompt_number": 149
    },
    {
     "cell_type": "code",
     "collapsed": false,
     "input": [
      "clf()\n",
      "#plot(ages, pdf)\n",
      "discrepency = np.abs(np.log(pdf) - (w[0]*ages + w[1]))\n",
      "plot(years, discrepency)\n",
      "ylabel('Log Discrepency')\n",
      "xlabel('Date [year CE]')\n",
      "#yscale('log')\n",
      "#gca().xaxis.set_minor_locator(AutoMinorLocator(5)) \n",
      "#gca().yaxis.set_minor_locator(AutoMinorLocator(5)) \n",
      "grid(True, 'both')\n",
      "#title('Relative statistical accuracy vs. age for ACA sample ensemble')"
     ],
     "language": "python",
     "metadata": {},
     "outputs": [],
     "prompt_number": 150
    },
    {
     "cell_type": "code",
     "collapsed": false,
     "input": [
      "np.log(0.5) / w[0]"
     ],
     "language": "python",
     "metadata": {},
     "outputs": [
      {
       "output_type": "pyout",
       "prompt_number": 151,
       "text": [
        "210.17066747743402"
       ]
      }
     ],
     "prompt_number": 151
    },
    {
     "cell_type": "code",
     "collapsed": false,
     "input": [
      "clf()\n",
      "plot(1-np.cumsum(np.flipud(pdf)))\n",
      "yscale('log')"
     ],
     "language": "python",
     "metadata": {},
     "outputs": [],
     "prompt_number": 152
    },
    {
     "cell_type": "code",
     "collapsed": false,
     "input": [
      "clf()\n",
      "ax1 = subplot(3, 1, (1,2))\n",
      "plot(years, pdf)\n",
      "plot(years, np.exp(w[0]*ages + w[1]))\n",
      "#fill_between(years, pdf-error, pdf+error, where=(error>1e-8), interpolate=True)\n",
      "#plot(years, pdf + error, 'b:')\n",
      "#plot(years, pdf - error, 'b:')\n",
      "ylabel('Probability density')\n",
      "yscale('log')\n",
      "grid(True)\n",
      "legend(['Empirical PDF from observed data', 'Exponential decay (weighted fit)'], loc='upper left')\n",
      "title('Decay model for pottery finds from ACA corpus')\n",
      "setp(ax1.get_xticklabels(), visible=False)\n",
      "\n",
      "subplot(3, 1, 3, sharex=ax1)\n",
      "fill(years, accuracy, 'g', alpha=0.5)\n",
      "#yscale('log')\n",
      "ylabel('Relative precision')\n",
      "xlabel('Date [years CE]')\n",
      "grid(True)"
     ],
     "language": "python",
     "metadata": {},
     "outputs": [],
     "prompt_number": 153
    },
    {
     "cell_type": "code",
     "collapsed": false,
     "input": [
      "lambdas = []\n",
      "for sidx in range(20000):\n",
      "    idx = np.random.randint(0, len(xi), xi.shape)\n",
      "    xis = xi[idx]\n",
      "    yis = yi[idx]\n",
      "    wis = wi[idx]\n",
      "\n",
      "    A = np.array([xis / np.sqrt(wis), np.ones(xis.shape) / np.sqrt(wis)])\n",
      "    w, residues, rank, s = np.linalg.lstsq(A.T, yis / np.sqrt(wis))\n",
      "    lambdas.append(w[0])\n",
      "    \n",
      "lambdas = np.array(lambdas)\n",
      "lambda_mu, lambda_var = np.mean(lambdas), np.var(lambdas)"
     ],
     "language": "python",
     "metadata": {},
     "outputs": [],
     "prompt_number": "*"
    },
    {
     "cell_type": "code",
     "collapsed": false,
     "input": [
      "hls = np.log(0.5) / lambdas\n",
      "hl_mu, hl_var = np.mean(hls), np.var(hls)\n",
      "\n",
      "clf()\n",
      "_, bins, _ = hist(hls, bins=50, normed=True, histtype='stepfilled', color='b')\n",
      "#hist(d, 64, histtype='bar')\n",
      "#axis('tight')\n",
      "x = np.linspace(np.min(bins), np.max(bins), 120)\n",
      "plot(x, -(np.log(0.5)/x**2) * np.exp(-((np.log(0.5)/x)-lambda_mu)**2/(2*lambda_var))/np.sqrt(2*pi*lambda_var), color='g', lw=3)\n",
      "legend(('Fitted Reciprocal-Gaussian', 'Empirical'))\n",
      "title('Pottery half-life from ACA corpus')\n",
      "xlabel('Half-life')\n",
      "ylabel('Dansity')\n",
      "grid('on')"
     ],
     "language": "python",
     "metadata": {},
     "outputs": [],
     "prompt_number": "*"
    },
    {
     "cell_type": "code",
     "collapsed": false,
     "input": [],
     "language": "python",
     "metadata": {},
     "outputs": [],
     "prompt_number": 76
    },
    {
     "cell_type": "code",
     "collapsed": false,
     "input": [],
     "language": "python",
     "metadata": {},
     "outputs": []
    }
   ],
   "metadata": {}
  }
 ]
}