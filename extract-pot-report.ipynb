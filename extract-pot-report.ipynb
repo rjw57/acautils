{
 "metadata": {
  "name": "extract-pot-report"
 },
 "nbformat": 3,
 "nbformat_minor": 0,
 "worksheets": [
  {
   "cells": [
    {
     "cell_type": "code",
     "collapsed": false,
     "input": [
      "import csv\n",
      "import glob\n",
      "import logging\n",
      "import os\n",
      "import re\n",
      "import subprocess\n",
      "\n",
      "from bs4 import BeautifulSoup\n",
      "\n",
      "logging.basicConfig(level=logging.INFO)\n",
      "\n",
      "log = logging.getLogger()\n",
      "log.addHandler(logging.StreamHandler(open('pot-report-log.txt', 'w')))"
     ],
     "language": "python",
     "metadata": {},
     "outputs": [],
     "prompt_number": 10
    },
    {
     "cell_type": "code",
     "collapsed": false,
     "input": [
      "def get_report_soup(filename):\n",
      "    log.info('Loading report from %s' % (filename,))\n",
      "    p = subprocess.Popen(['unoconv', '--stdout', '-f', 'html', filename], stdout=subprocess.PIPE, stderr=subprocess.PIPE)\n",
      "    out, err = p.communicate()\n",
      "    if p.returncode != 0:\n",
      "        log.error('Error running unoconv. Stderr as follows:')\n",
      "        list(log.error(x) for x in err.split('\\n'))\n",
      "        return None\n",
      "    return BeautifulSoup(out)"
     ],
     "language": "python",
     "metadata": {},
     "outputs": [],
     "prompt_number": 3
    },
    {
     "cell_type": "code",
     "collapsed": false,
     "input": [
      "def process_table(table):\n",
      "    rows = table.findChildren('tr')\n",
      "    if len(rows) < 2:\n",
      "        logging.warning('Skipping table since it has fewer than 2 rows (= %s).' % (len(rows),))\n",
      "        return None\n",
      "    \n",
      "    # Get potential headings\n",
      "    headings = list(re.sub(r'\\s+', ' ', x.get_text().strip()) for x in rows[1].findChildren('td'))\n",
      "    \n",
      "    # Sanity check headings\n",
      "    if headings[0] != 'TP' and headings[0] != 'Test Pit':\n",
      "        log.warning('Skipping table since first heading is not \"TP\" or \"Test Pit\" (= \"%s\").' % (headings[0],))\n",
      "        return None\n",
      "    if headings[1] != 'Cntxt' and headings[1] != 'Context' and headings[1] != 'Spit' and headings[1] != 'Cntx':\n",
      "        log.warning('Skipping table since second heading is not \"Cntxt\" or \"Context\" or \"Spit\" or \"Cntx\" (= \"%s\").' % (headings[1],))\n",
      "        return None\n",
      "    if headings[-1] != 'Date Range' and headings[-1] != 'Date':\n",
      "        log.warning('Skipping table since last heading is not \"Date Range\" or \"Date\" (= \"%s\").' % (headings[-1],))\n",
      "        return None\n",
      "        \n",
      "    for idx, heading in enumerate(headings[2:-1]):\n",
      "        if idx % 2 == 0 and heading != 'No':\n",
      "            log.warning('Skipping table since heading %s is not \"No\" (= \"%s\").' % (idx + 2, heading,))\n",
      "            return None\n",
      "        if idx % 2 == 1 and heading != 'Wt':\n",
      "            log.warning('Skipping table since heading %s is not \"Wt\" (= \"%s\").' % (idx + 2, heading,))\n",
      "            return None\n",
      "            \n",
      "    # Get potential types skipping blank ones\n",
      "    types = list(x.get_text().strip() for x in rows[0].findChildren('td'))\n",
      "    types = list(x for x in types if len(x) > 0)\n",
      "    \n",
      "    # Sanity check numbers\n",
      "    if 2 * len(types) != len(headings) - 3:\n",
      "        log.warning('Skipping table because length of headings doesn\\'t match types.')\n",
      "        log.warning('Headings: %s' % (', '.join(headings),))\n",
      "        log.warning('Types: %s' % (', '.join(types),))\n",
      "        \n",
      "    def parse_date(d):\n",
      "        if d.endswith('BC'):\n",
      "            # HACK\n",
      "            if d[-3] == '-':\n",
      "                log.warning('Working around bad date: \"%s\"' % (d,))\n",
      "                return - int(d[:-3])\n",
      "            return - int(d[:-2])\n",
      "        elif d.endswith('AD'):\n",
      "            return int(d[:-2])\n",
      "        else:\n",
      "            # HACK\n",
      "            if d[-1] == '.' or d[-1] == '`':\n",
      "                log.warning('Working around bad date: \"%s\"' % (d,))\n",
      "                d = d[:-1]\n",
      "            return int(d)\n",
      "        \n",
      "    # Now actually process rows\n",
      "    data_rows = []\n",
      "    for row in rows[2:]:\n",
      "        values = list(x.get_text().strip() for x in row.findChildren('td'))\n",
      "        \n",
      "        # Skip 'Total' row\n",
      "        if values[1] == 'Total':\n",
      "            continue\n",
      "            \n",
      "        pit, ctx = values[:2]\n",
      "        \n",
      "        try:\n",
      "            low, high = list(parse_date(x) for x in re.split(u'\\s*[-\u2013]\\s*', values[-1]))\n",
      "        except:\n",
      "            log.error('Unparsable date range: %s' % (values[-1],))\n",
      "            return None\n",
      "        \n",
      "        data = values[2:-1]\n",
      "        for type_, no, wt in zip(types, data[0::2], data[1::2]):\n",
      "            if len(no) == 0 or len(wt) == 0:\n",
      "                continue\n",
      "                \n",
      "            no = int(no)\n",
      "            wt = int(wt)\n",
      "            \n",
      "            data_rows.append([pit, ctx, low, high, type_.encode('utf-8'), no, wt])\n",
      "\n",
      "    return data_rows"
     ],
     "language": "python",
     "metadata": {},
     "outputs": [],
     "prompt_number": 11
    },
    {
     "cell_type": "code",
     "collapsed": false,
     "input": [
      "doc_pattern = 'cache/docs/*.doc'\n",
      "docs = glob.glob(doc_pattern)\n",
      "\n",
      "log.info('Starting processing reports.')\n",
      "\n",
      "with open('pot_reports.csv', 'w') as f:\n",
      "    w = csv.writer(f)\n",
      "    w.writerow(['Source', 'Pit', 'Context/Spit', 'Low Date', 'High Data', 'Type', 'Number', 'Weight'])\n",
      "\n",
      "    for doc_file in docs:\n",
      "        log.info('Processing: %s' % (doc_file,))\n",
      "        soup = get_report_soup(doc_file)\n",
      "        tables = soup.findAll('table')\n",
      "        source = os.path.basename(doc_file)\n",
      "\n",
      "        for table in tables:\n",
      "            rows = process_table(table)\n",
      "            if rows is not None:\n",
      "                w.writerows([source,] + row for row in rows)\n",
      "                \n",
      "log.info('Finished processing reports.')"
     ],
     "language": "python",
     "metadata": {},
     "outputs": [
      {
       "output_type": "stream",
       "stream": "stderr",
       "text": [
        "INFO:root:Processing: cache/docs/PotReportManuden11.doc\n"
       ]
      },
      {
       "output_type": "stream",
       "stream": "stderr",
       "text": [
        "INFO:root:Loading report from cache/docs/PotReportManuden11.doc\n"
       ]
      },
      {
       "output_type": "stream",
       "stream": "stderr",
       "text": [
        "INFO:root:Processing: cache/docs/PotReportSharnbrook11.doc\n"
       ]
      },
      {
       "output_type": "stream",
       "stream": "stderr",
       "text": [
        "INFO:root:Loading report from cache/docs/PotReportSharnbrook11.doc\n"
       ]
      },
      {
       "output_type": "stream",
       "stream": "stderr",
       "text": [
        "INFO:root:Processing: cache/docs/PotReportClare11.doc\n"
       ]
      },
      {
       "output_type": "stream",
       "stream": "stderr",
       "text": [
        "INFO:root:Loading report from cache/docs/PotReportClare11.doc\n"
       ]
      },
      {
       "output_type": "stream",
       "stream": "stderr",
       "text": [
        "INFO:root:Processing: cache/docs/PotReportCoddenham11.doc\n"
       ]
      },
      {
       "output_type": "stream",
       "stream": "stderr",
       "text": [
        "INFO:root:Loading report from cache/docs/PotReportCoddenham11.doc\n"
       ]
      },
      {
       "output_type": "stream",
       "stream": "stderr",
       "text": [
        "INFO:root:Processing: cache/docs/PotReportCottenham11.doc\n"
       ]
      },
      {
       "output_type": "stream",
       "stream": "stderr",
       "text": [
        "INFO:root:Loading report from cache/docs/PotReportCottenham11.doc\n"
       ]
      },
      {
       "output_type": "stream",
       "stream": "stderr",
       "text": [
        "INFO:root:Processing: cache/docs/PotReportHessett06.doc\n"
       ]
      },
      {
       "output_type": "stream",
       "stream": "stderr",
       "text": [
        "INFO:root:Loading report from cache/docs/PotReportHessett06.doc\n"
       ]
      },
      {
       "output_type": "stream",
       "stream": "stderr",
       "text": [
        "INFO:root:Processing: cache/docs/PotReportHindringham07.doc\n"
       ]
      },
      {
       "output_type": "stream",
       "stream": "stderr",
       "text": [
        "INFO:root:Loading report from cache/docs/PotReportHindringham07.doc\n"
       ]
      },
      {
       "output_type": "stream",
       "stream": "stderr",
       "text": [
        "INFO:root:Processing: cache/docs/PotReportGarboldisham11.doc\n"
       ]
      },
      {
       "output_type": "stream",
       "stream": "stderr",
       "text": [
        "INFO:root:Loading report from cache/docs/PotReportGarboldisham11.doc\n"
       ]
      },
      {
       "output_type": "stream",
       "stream": "stderr",
       "text": [
        "INFO:root:Processing: cache/docs/PotReportHessett08.doc\n"
       ]
      },
      {
       "output_type": "stream",
       "stream": "stderr",
       "text": [
        "INFO:root:Loading report from cache/docs/PotReportHessett08.doc\n"
       ]
      },
      {
       "output_type": "stream",
       "stream": "stderr",
       "text": [
        "INFO:root:Processing: cache/docs/PotReportUfford06.doc\n"
       ]
      },
      {
       "output_type": "stream",
       "stream": "stderr",
       "text": [
        "INFO:root:Loading report from cache/docs/PotReportUfford06.doc\n"
       ]
      },
      {
       "output_type": "stream",
       "stream": "stderr",
       "text": [
        "INFO:root:Processing: cache/docs/PotReportBuresCommon12TPs.doc\n"
       ]
      },
      {
       "output_type": "stream",
       "stream": "stderr",
       "text": [
        "INFO:root:Loading report from cache/docs/PotReportBuresCommon12TPs.doc\n"
       ]
      },
      {
       "output_type": "stream",
       "stream": "stderr",
       "text": [
        "INFO:root:Processing: cache/docs/PotReportSharnbrook08.doc\n"
       ]
      },
      {
       "output_type": "stream",
       "stream": "stderr",
       "text": [
        "INFO:root:Loading report from cache/docs/PotReportSharnbrook08.doc\n"
       ]
      },
      {
       "output_type": "stream",
       "stream": "stderr",
       "text": [
        "INFO:root:Processing: cache/docs/PotReportHoughtonAndWyton05.doc\n"
       ]
      },
      {
       "output_type": "stream",
       "stream": "stderr",
       "text": [
        "INFO:root:Loading report from cache/docs/PotReportHoughtonAndWyton05.doc\n"
       ]
      },
      {
       "output_type": "stream",
       "stream": "stderr",
       "text": [
        "INFO:root:Processing: cache/docs/PotReportBinham12-2.doc\n"
       ]
      },
      {
       "output_type": "stream",
       "stream": "stderr",
       "text": [
        "INFO:root:Loading report from cache/docs/PotReportBinham12-2.doc\n"
       ]
      },
      {
       "output_type": "stream",
       "stream": "stderr",
       "text": [
        "ERROR:root:Unparsable date range: 1000-BC-50AD\n"
       ]
      },
      {
       "output_type": "stream",
       "stream": "stderr",
       "text": [
        "ERROR:root:Unparsable date range: 1000-BC-50AD\n"
       ]
      },
      {
       "output_type": "stream",
       "stream": "stderr",
       "text": [
        "INFO:root:Processing: cache/docs/PotReportWiveton06.doc\n"
       ]
      },
      {
       "output_type": "stream",
       "stream": "stderr",
       "text": [
        "INFO:root:Loading report from cache/docs/PotReportWiveton06.doc\n"
       ]
      },
      {
       "output_type": "stream",
       "stream": "stderr",
       "text": [
        "INFO:root:Processing: cache/docs/PotReportWestMersea10.doc\n"
       ]
      },
      {
       "output_type": "stream",
       "stream": "stderr",
       "text": [
        "INFO:root:Loading report from cache/docs/PotReportWestMersea10.doc\n"
       ]
      },
      {
       "output_type": "stream",
       "stream": "stderr",
       "text": [
        "INFO:root:Processing: cache/docs/PotReportIpswich11.doc\n"
       ]
      },
      {
       "output_type": "stream",
       "stream": "stderr",
       "text": [
        "INFO:root:Loading report from cache/docs/PotReportIpswich11.doc\n"
       ]
      },
      {
       "output_type": "stream",
       "stream": "stderr",
       "text": [
        "INFO:root:Processing: cache/docs/PotReportWestMersea08.doc\n"
       ]
      },
      {
       "output_type": "stream",
       "stream": "stderr",
       "text": [
        "INFO:root:Loading report from cache/docs/PotReportWestMersea08.doc\n"
       ]
      },
      {
       "output_type": "stream",
       "stream": "stderr",
       "text": [
        "INFO:root:Processing: cache/docs/PotReportAcle10.doc\n"
       ]
      },
      {
       "output_type": "stream",
       "stream": "stderr",
       "text": [
        "INFO:root:Loading report from cache/docs/PotReportAcle10.doc\n"
       ]
      },
      {
       "output_type": "stream",
       "stream": "stderr",
       "text": [
        "INFO:root:Processing: cache/docs/PotReportCoddenham10.doc\n"
       ]
      },
      {
       "output_type": "stream",
       "stream": "stderr",
       "text": [
        "INFO:root:Loading report from cache/docs/PotReportCoddenham10.doc\n"
       ]
      },
      {
       "output_type": "stream",
       "stream": "stderr",
       "text": [
        "INFO:root:Processing: cache/docs/PotReportPaston12.doc\n"
       ]
      },
      {
       "output_type": "stream",
       "stream": "stderr",
       "text": [
        "INFO:root:Loading report from cache/docs/PotReportPaston12.doc\n"
       ]
      },
      {
       "output_type": "stream",
       "stream": "stderr",
       "text": [
        "WARNING:root:Working around bad date: \"1900.\"\n"
       ]
      },
      {
       "output_type": "stream",
       "stream": "stderr",
       "text": [
        "INFO:root:Processing: cache/docs/PotReportTerringtonStClement09.doc\n"
       ]
      },
      {
       "output_type": "stream",
       "stream": "stderr",
       "text": [
        "INFO:root:Loading report from cache/docs/PotReportTerringtonStClement09.doc\n"
       ]
      },
      {
       "output_type": "stream",
       "stream": "stderr",
       "text": [
        "INFO:root:Processing: cache/docs/PotReportWestMersea06.doc\n"
       ]
      },
      {
       "output_type": "stream",
       "stream": "stderr",
       "text": [
        "INFO:root:Loading report from cache/docs/PotReportWestMersea06.doc\n"
       ]
      },
      {
       "output_type": "stream",
       "stream": "stderr",
       "text": [
        "INFO:root:Processing: cache/docs/PotReportChediston06.doc\n"
       ]
      },
      {
       "output_type": "stream",
       "stream": "stderr",
       "text": [
        "INFO:root:Loading report from cache/docs/PotReportChediston06.doc\n"
       ]
      },
      {
       "output_type": "stream",
       "stream": "stderr",
       "text": [
        "INFO:root:Processing: cache/docs/PotReportGaywood10.doc\n"
       ]
      },
      {
       "output_type": "stream",
       "stream": "stderr",
       "text": [
        "INFO:root:Loading report from cache/docs/PotReportGaywood10.doc\n"
       ]
      },
      {
       "output_type": "stream",
       "stream": "stderr",
       "text": [
        "WARNING:root:Working around bad date: \"1900`\"\n"
       ]
      },
      {
       "output_type": "stream",
       "stream": "stderr",
       "text": [
        "INFO:root:Processing: cache/docs/PotReportHessett07.doc\n"
       ]
      },
      {
       "output_type": "stream",
       "stream": "stderr",
       "text": [
        "INFO:root:Loading report from cache/docs/PotReportHessett07.doc\n"
       ]
      },
      {
       "output_type": "stream",
       "stream": "stderr",
       "text": [
        "INFO:root:Processing: cache/docs/PotReportCastleton08.doc\n"
       ]
      },
      {
       "output_type": "stream",
       "stream": "stderr",
       "text": [
        "INFO:root:Loading report from cache/docs/PotReportCastleton08.doc\n"
       ]
      },
      {
       "output_type": "stream",
       "stream": "stderr",
       "text": [
        "INFO:root:Processing: cache/docs/PotReportClavering12.doc\n"
       ]
      },
      {
       "output_type": "stream",
       "stream": "stderr",
       "text": [
        "INFO:root:Loading report from cache/docs/PotReportClavering12.doc\n"
       ]
      },
      {
       "output_type": "stream",
       "stream": "stderr",
       "text": [
        "INFO:root:Processing: cache/docs/PotReportCarletonRode10-2.doc\n"
       ]
      },
      {
       "output_type": "stream",
       "stream": "stderr",
       "text": [
        "INFO:root:Loading report from cache/docs/PotReportCarletonRode10-2.doc\n"
       ]
      },
      {
       "output_type": "stream",
       "stream": "stderr",
       "text": [
        "INFO:root:Processing: cache/docs/PotReportCoddenham08.doc\n"
       ]
      },
      {
       "output_type": "stream",
       "stream": "stderr",
       "text": [
        "INFO:root:Loading report from cache/docs/PotReportCoddenham08.doc\n"
       ]
      },
      {
       "output_type": "stream",
       "stream": "stderr",
       "text": [
        "INFO:root:Processing: cache/docs/PotReportChediston11.doc\n"
       ]
      },
      {
       "output_type": "stream",
       "stream": "stderr",
       "text": [
        "INFO:root:Loading report from cache/docs/PotReportChediston11.doc\n"
       ]
      },
      {
       "output_type": "stream",
       "stream": "stderr",
       "text": [
        "INFO:root:Processing: cache/docs/PotReportCarletonRode08.doc\n"
       ]
      },
      {
       "output_type": "stream",
       "stream": "stderr",
       "text": [
        "INFO:root:Loading report from cache/docs/PotReportCarletonRode08.doc\n"
       ]
      },
      {
       "output_type": "stream",
       "stream": "stderr",
       "text": [
        "INFO:root:Processing: cache/docs/PotReportClare11-2.doc\n"
       ]
      },
      {
       "output_type": "stream",
       "stream": "stderr",
       "text": [
        "INFO:root:Loading report from cache/docs/PotReportClare11-2.doc\n"
       ]
      },
      {
       "output_type": "stream",
       "stream": "stderr",
       "text": [
        "INFO:root:Processing: cache/docs/PotReportWestMersea07.doc\n"
       ]
      },
      {
       "output_type": "stream",
       "stream": "stderr",
       "text": [
        "INFO:root:Loading report from cache/docs/PotReportWestMersea07.doc\n"
       ]
      },
      {
       "output_type": "stream",
       "stream": "stderr",
       "text": [
        "INFO:root:Processing: cache/docs/PotReportSmarden08.doc\n"
       ]
      },
      {
       "output_type": "stream",
       "stream": "stderr",
       "text": [
        "INFO:root:Loading report from cache/docs/PotReportSmarden08.doc\n"
       ]
      },
      {
       "output_type": "stream",
       "stream": "stderr",
       "text": [
        "WARNING:root:Skipping table since first heading is not \"TP\" or \"Test Pit\" (= \"1\").\n"
       ]
      },
      {
       "output_type": "stream",
       "stream": "stderr",
       "text": [
        "WARNING:root:Skipping table since first heading is not \"TP\" or \"Test Pit\" (= \"1\").\n"
       ]
      },
      {
       "output_type": "stream",
       "stream": "stderr",
       "text": [
        "WARNING:root:Skipping table since first heading is not \"TP\" or \"Test Pit\" (= \"2\").\n"
       ]
      },
      {
       "output_type": "stream",
       "stream": "stderr",
       "text": [
        "WARNING:root:Skipping table since first heading is not \"TP\" or \"Test Pit\" (= \"1\").\n"
       ]
      },
      {
       "output_type": "stream",
       "stream": "stderr",
       "text": [
        "WARNING:root:Skipping table since first heading is not \"TP\" or \"Test Pit\" (= \"1\").\n"
       ]
      },
      {
       "output_type": "stream",
       "stream": "stderr",
       "text": [
        "WARNING:root:Skipping table since first heading is not \"TP\" or \"Test Pit\" (= \"1\").\n"
       ]
      },
      {
       "output_type": "stream",
       "stream": "stderr",
       "text": [
        "WARNING:root:Skipping table since first heading is not \"TP\" or \"Test Pit\" (= \"1\").\n"
       ]
      },
      {
       "output_type": "stream",
       "stream": "stderr",
       "text": [
        "WARNING:root:Skipping table since first heading is not \"TP\" or \"Test Pit\" (= \"1\").\n"
       ]
      },
      {
       "output_type": "stream",
       "stream": "stderr",
       "text": [
        "WARNING:root:Skipping table since first heading is not \"TP\" or \"Test Pit\" (= \"1\").\n"
       ]
      },
      {
       "output_type": "stream",
       "stream": "stderr",
       "text": [
        "WARNING:root:Skipping table since first heading is not \"TP\" or \"Test Pit\" (= \"1\").\n"
       ]
      },
      {
       "output_type": "stream",
       "stream": "stderr",
       "text": [
        "WARNING:root:Skipping table since first heading is not \"TP\" or \"Test Pit\" (= \"1\").\n"
       ]
      },
      {
       "output_type": "stream",
       "stream": "stderr",
       "text": [
        "INFO:root:Processing: cache/docs/PotReportSharnbrook10-1.doc\n"
       ]
      },
      {
       "output_type": "stream",
       "stream": "stderr",
       "text": [
        "INFO:root:Loading report from cache/docs/PotReportSharnbrook10-1.doc\n"
       ]
      },
      {
       "output_type": "stream",
       "stream": "stderr",
       "text": [
        "WARNING:root:Skipping table since first heading is not \"TP\" or \"Test Pit\" (= \"Context\").\n"
       ]
      },
      {
       "output_type": "stream",
       "stream": "stderr",
       "text": [
        "INFO:root:Processing: cache/docs/PotReportGreatShelford10.doc\n"
       ]
      },
      {
       "output_type": "stream",
       "stream": "stderr",
       "text": [
        "INFO:root:Loading report from cache/docs/PotReportGreatShelford10.doc\n"
       ]
      },
      {
       "output_type": "stream",
       "stream": "stderr",
       "text": [
        "INFO:root:Processing: cache/docs/PotReportWisbechStMary07.doc\n"
       ]
      },
      {
       "output_type": "stream",
       "stream": "stderr",
       "text": [
        "INFO:root:Loading report from cache/docs/PotReportWisbechStMary07.doc\n"
       ]
      },
      {
       "output_type": "stream",
       "stream": "stderr",
       "text": [
        "ERROR:root:Unparsable date range: \n"
       ]
      },
      {
       "output_type": "stream",
       "stream": "stderr",
       "text": [
        "ERROR:root:Unparsable date range: \n"
       ]
      },
      {
       "output_type": "stream",
       "stream": "stderr",
       "text": [
        "ERROR:root:Unparsable date range: \n"
       ]
      },
      {
       "output_type": "stream",
       "stream": "stderr",
       "text": [
        "INFO:root:Processing: cache/docs/PotReportUfford05.doc\n"
       ]
      },
      {
       "output_type": "stream",
       "stream": "stderr",
       "text": [
        "INFO:root:Loading report from cache/docs/PotReportUfford05.doc\n"
       ]
      },
      {
       "output_type": "stream",
       "stream": "stderr",
       "text": [
        "INFO:root:Processing: cache/docs/PotReportAcle09.doc\n"
       ]
      },
      {
       "output_type": "stream",
       "stream": "stderr",
       "text": [
        "INFO:root:Loading report from cache/docs/PotReportAcle09.doc\n"
       ]
      },
      {
       "output_type": "stream",
       "stream": "stderr",
       "text": [
        "INFO:root:Processing: cache/docs/PotReportChediston10.doc\n"
       ]
      },
      {
       "output_type": "stream",
       "stream": "stderr",
       "text": [
        "INFO:root:Loading report from cache/docs/PotReportChediston10.doc\n"
       ]
      },
      {
       "output_type": "stream",
       "stream": "stderr",
       "text": [
        "INFO:root:Processing: cache/docs/PotReportWiveton08.doc\n"
       ]
      },
      {
       "output_type": "stream",
       "stream": "stderr",
       "text": [
        "INFO:root:Loading report from cache/docs/PotReportWiveton08.doc\n"
       ]
      },
      {
       "output_type": "stream",
       "stream": "stderr",
       "text": [
        "INFO:root:Processing: cache/docs/PotReportBinham10.doc\n"
       ]
      },
      {
       "output_type": "stream",
       "stream": "stderr",
       "text": [
        "INFO:root:Loading report from cache/docs/PotReportBinham10.doc\n"
       ]
      },
      {
       "output_type": "stream",
       "stream": "stderr",
       "text": [
        "INFO:root:Processing: cache/docs/PotReportThorney07.doc\n"
       ]
      },
      {
       "output_type": "stream",
       "stream": "stderr",
       "text": [
        "INFO:root:Loading report from cache/docs/PotReportThorney07.doc\n"
       ]
      },
      {
       "output_type": "stream",
       "stream": "stderr",
       "text": [
        "WARNING:root:Skipping table since first heading is not \"TP\" or \"Test Pit\" (= \"Context\").\n"
       ]
      },
      {
       "output_type": "stream",
       "stream": "stderr",
       "text": [
        "WARNING:root:Skipping table since first heading is not \"TP\" or \"Test Pit\" (= \"Context\").\n"
       ]
      },
      {
       "output_type": "stream",
       "stream": "stderr",
       "text": [
        "WARNING:root:Skipping table since first heading is not \"TP\" or \"Test Pit\" (= \"Context\").\n"
       ]
      },
      {
       "output_type": "stream",
       "stream": "stderr",
       "text": [
        "WARNING:root:Skipping table since first heading is not \"TP\" or \"Test Pit\" (= \"Context\").\n"
       ]
      },
      {
       "output_type": "stream",
       "stream": "stderr",
       "text": [
        "WARNING:root:Skipping table since first heading is not \"TP\" or \"Test Pit\" (= \"Context\").\n"
       ]
      },
      {
       "output_type": "stream",
       "stream": "stderr",
       "text": [
        "WARNING:root:Skipping table since first heading is not \"TP\" or \"Test Pit\" (= \"Context\").\n"
       ]
      },
      {
       "output_type": "stream",
       "stream": "stderr",
       "text": [
        "WARNING:root:Skipping table since first heading is not \"TP\" or \"Test Pit\" (= \"Context\").\n"
       ]
      },
      {
       "output_type": "stream",
       "stream": "stderr",
       "text": [
        "WARNING:root:Skipping table since first heading is not \"TP\" or \"Test Pit\" (= \"Context\").\n"
       ]
      },
      {
       "output_type": "stream",
       "stream": "stderr",
       "text": [
        "WARNING:root:Skipping table since first heading is not \"TP\" or \"Test Pit\" (= \"Context\").\n"
       ]
      },
      {
       "output_type": "stream",
       "stream": "stderr",
       "text": [
        "WARNING:root:Skipping table since first heading is not \"TP\" or \"Test Pit\" (= \"Context\").\n"
       ]
      },
      {
       "output_type": "stream",
       "stream": "stderr",
       "text": [
        "WARNING:root:Skipping table since first heading is not \"TP\" or \"Test Pit\" (= \"Context\").\n"
       ]
      },
      {
       "output_type": "stream",
       "stream": "stderr",
       "text": [
        "WARNING:root:Skipping table since first heading is not \"TP\" or \"Test Pit\" (= \"Context\").\n"
       ]
      },
      {
       "output_type": "stream",
       "stream": "stderr",
       "text": [
        "WARNING:root:Skipping table since first heading is not \"TP\" or \"Test Pit\" (= \"Context\").\n"
       ]
      },
      {
       "output_type": "stream",
       "stream": "stderr",
       "text": [
        "WARNING:root:Skipping table since first heading is not \"TP\" or \"Test Pit\" (= \"Context\").\n"
       ]
      },
      {
       "output_type": "stream",
       "stream": "stderr",
       "text": [
        "INFO:root:Processing: cache/docs/PotReportBinham09.doc\n"
       ]
      },
      {
       "output_type": "stream",
       "stream": "stderr",
       "text": [
        "INFO:root:Loading report from cache/docs/PotReportBinham09.doc\n"
       ]
      },
      {
       "output_type": "stream",
       "stream": "stderr",
       "text": [
        "INFO:root:Processing: cache/docs/PotReportCarletonRode11.doc\n"
       ]
      },
      {
       "output_type": "stream",
       "stream": "stderr",
       "text": [
        "INFO:root:Loading report from cache/docs/PotReportCarletonRode11.doc\n"
       ]
      },
      {
       "output_type": "stream",
       "stream": "stderr",
       "text": [
        "INFO:root:Processing: cache/docs/PotReportGirton09.doc\n"
       ]
      },
      {
       "output_type": "stream",
       "stream": "stderr",
       "text": [
        "INFO:root:Loading report from cache/docs/PotReportGirton09.doc\n"
       ]
      },
      {
       "output_type": "stream",
       "stream": "stderr",
       "text": [
        "INFO:root:Processing: cache/docs/PotReportTerringtonStClement05.doc\n"
       ]
      },
      {
       "output_type": "stream",
       "stream": "stderr",
       "text": [
        "INFO:root:Loading report from cache/docs/PotReportTerringtonStClement05.doc\n"
       ]
      },
      {
       "output_type": "stream",
       "stream": "stderr",
       "text": [
        "WARNING:root:Skipping table since heading 2 is not \"No\" (= \"Wt\").\n"
       ]
      },
      {
       "output_type": "stream",
       "stream": "stderr",
       "text": [
        "INFO:root:Processing: cache/docs/PotReportWrittle12.doc\n"
       ]
      },
      {
       "output_type": "stream",
       "stream": "stderr",
       "text": [
        "INFO:root:Loading report from cache/docs/PotReportWrittle12.doc\n"
       ]
      },
      {
       "output_type": "stream",
       "stream": "stderr",
       "text": [
        "INFO:root:Processing: cache/docs/PotReportSharnbrook09.doc\n"
       ]
      },
      {
       "output_type": "stream",
       "stream": "stderr",
       "text": [
        "INFO:root:Loading report from cache/docs/PotReportSharnbrook09.doc\n"
       ]
      },
      {
       "output_type": "stream",
       "stream": "stderr",
       "text": [
        "INFO:root:Processing: cache/docs/PotReportIsleham11.doc\n"
       ]
      },
      {
       "output_type": "stream",
       "stream": "stderr",
       "text": [
        "INFO:root:Loading report from cache/docs/PotReportIsleham11.doc\n"
       ]
      },
      {
       "output_type": "stream",
       "stream": "stderr",
       "text": [
        "WARNING:root:Skipping table since first heading is not \"TP\" or \"Test Pit\" (= \"Cntxt\").\n"
       ]
      },
      {
       "output_type": "stream",
       "stream": "stderr",
       "text": [
        "INFO:root:Processing: cache/docs/PotReportCoddenham07.doc\n"
       ]
      },
      {
       "output_type": "stream",
       "stream": "stderr",
       "text": [
        "INFO:root:Loading report from cache/docs/PotReportCoddenham07.doc\n"
       ]
      },
      {
       "output_type": "stream",
       "stream": "stderr",
       "text": [
        "INFO:root:Processing: cache/docs/PotReportCottenham09-1.doc\n"
       ]
      },
      {
       "output_type": "stream",
       "stream": "stderr",
       "text": [
        "INFO:root:Loading report from cache/docs/PotReportCottenham09-1.doc\n"
       ]
      },
      {
       "output_type": "stream",
       "stream": "stderr",
       "text": [
        "WARNING:root:Skipping table because length of headings doesn't match types.\n"
       ]
      },
      {
       "output_type": "stream",
       "stream": "stderr",
       "text": [
        "WARNING:root:Headings: TP, Context, No, Wt, No, Wt, No, Wt, Date\n"
       ]
      },
      {
       "output_type": "stream",
       "stream": "stderr",
       "text": [
        "WARNING:root:Types: EMW, ES, VIC, Date\n"
       ]
      },
      {
       "output_type": "stream",
       "stream": "stderr",
       "text": [
        "WARNING:root:Skipping table since first heading is not \"TP\" or \"Test Pit\" (= \"Context\").\n"
       ]
      },
      {
       "output_type": "stream",
       "stream": "stderr",
       "text": [
        "INFO:root:Processing: cache/docs/PotReportBinham11.doc\n"
       ]
      },
      {
       "output_type": "stream",
       "stream": "stderr",
       "text": [
        "INFO:root:Loading report from cache/docs/PotReportBinham11.doc\n"
       ]
      },
      {
       "output_type": "stream",
       "stream": "stderr",
       "text": [
        "INFO:root:Processing: cache/docs/PotReportGreatShelford06.doc\n"
       ]
      },
      {
       "output_type": "stream",
       "stream": "stderr",
       "text": [
        "INFO:root:Loading report from cache/docs/PotReportGreatShelford06.doc\n"
       ]
      },
      {
       "output_type": "stream",
       "stream": "stderr",
       "text": [
        "ERROR:root:Unparsable date range: -\n"
       ]
      },
      {
       "output_type": "stream",
       "stream": "stderr",
       "text": [
        "ERROR:root:Unparsable date range: -\n"
       ]
      },
      {
       "output_type": "stream",
       "stream": "stderr",
       "text": [
        "ERROR:root:Unparsable date range: \n"
       ]
      },
      {
       "output_type": "stream",
       "stream": "stderr",
       "text": [
        "ERROR:root:Unparsable date range: -\n"
       ]
      },
      {
       "output_type": "stream",
       "stream": "stderr",
       "text": [
        "ERROR:root:Unparsable date range: -\n"
       ]
      },
      {
       "output_type": "stream",
       "stream": "stderr",
       "text": [
        "INFO:root:Processing: cache/docs/PotReportSwaffhamBulbeck12.doc\n"
       ]
      },
      {
       "output_type": "stream",
       "stream": "stderr",
       "text": [
        "INFO:root:Loading report from cache/docs/PotReportSwaffhamBulbeck12.doc\n"
       ]
      },
      {
       "output_type": "stream",
       "stream": "stderr",
       "text": [
        "INFO:root:Processing: cache/docs/PotReportLittleHallingbury10.doc\n"
       ]
      },
      {
       "output_type": "stream",
       "stream": "stderr",
       "text": [
        "INFO:root:Loading report from cache/docs/PotReportLittleHallingbury10.doc\n"
       ]
      },
      {
       "output_type": "stream",
       "stream": "stderr",
       "text": [
        "INFO:root:Processing: cache/docs/PotReportMountBures11.doc\n"
       ]
      },
      {
       "output_type": "stream",
       "stream": "stderr",
       "text": [
        "INFO:root:Loading report from cache/docs/PotReportMountBures11.doc\n"
       ]
      },
      {
       "output_type": "stream",
       "stream": "stderr",
       "text": [
        "WARNING:root:Skipping table since first heading is not \"TP\" or \"Test Pit\" (= \"Tr\").\n"
       ]
      },
      {
       "output_type": "stream",
       "stream": "stderr",
       "text": [
        "INFO:root:Processing: cache/docs/PotReportLongMelford11-1.doc\n"
       ]
      },
      {
       "output_type": "stream",
       "stream": "stderr",
       "text": [
        "INFO:root:Loading report from cache/docs/PotReportLongMelford11-1.doc\n"
       ]
      },
      {
       "output_type": "stream",
       "stream": "stderr",
       "text": [
        "WARNING:root:Skipping table since first heading is not \"TP\" or \"Test Pit\" (= \"Black-slipped ware\").\n"
       ]
      },
      {
       "output_type": "stream",
       "stream": "stderr",
       "text": [
        "WARNING:root:Skipping table since first heading is not \"TP\" or \"Test Pit\" (= \"Beaker\").\n"
       ]
      },
      {
       "output_type": "stream",
       "stream": "stderr",
       "text": [
        "WARNING:root:Skipping table since first heading is not \"TP\" or \"Test Pit\" (= \"1\").\n"
       ]
      },
      {
       "output_type": "stream",
       "stream": "stderr",
       "text": [
        "INFO:root:Processing: cache/docs/PotReportCarletonRode09.doc\n"
       ]
      },
      {
       "output_type": "stream",
       "stream": "stderr",
       "text": [
        "INFO:root:Loading report from cache/docs/PotReportCarletonRode09.doc\n"
       ]
      },
      {
       "output_type": "stream",
       "stream": "stderr",
       "text": [
        "INFO:root:Processing: cache/docs/PotReportTerringtonStClement06.doc\n"
       ]
      },
      {
       "output_type": "stream",
       "stream": "stderr",
       "text": [
        "INFO:root:Loading report from cache/docs/PotReportTerringtonStClement06.doc\n"
       ]
      },
      {
       "output_type": "stream",
       "stream": "stderr",
       "text": [
        "INFO:root:Processing: cache/docs/PotReportSharnbrook12.doc\n"
       ]
      },
      {
       "output_type": "stream",
       "stream": "stderr",
       "text": [
        "INFO:root:Loading report from cache/docs/PotReportSharnbrook12.doc\n"
       ]
      },
      {
       "output_type": "stream",
       "stream": "stderr",
       "text": [
        "INFO:root:Processing: cache/docs/PotReportCoddenham09.doc\n"
       ]
      },
      {
       "output_type": "stream",
       "stream": "stderr",
       "text": [
        "INFO:root:Loading report from cache/docs/PotReportCoddenham09.doc\n"
       ]
      },
      {
       "output_type": "stream",
       "stream": "stderr",
       "text": [
        "INFO:root:Processing: cache/docs/PotReportCastor10.doc\n"
       ]
      },
      {
       "output_type": "stream",
       "stream": "stderr",
       "text": [
        "INFO:root:Loading report from cache/docs/PotReportCastor10.doc\n"
       ]
      },
      {
       "output_type": "stream",
       "stream": "stderr",
       "text": [
        "INFO:root:Processing: cache/docs/PotReportLittleHallingbury07.doc\n"
       ]
      },
      {
       "output_type": "stream",
       "stream": "stderr",
       "text": [
        "INFO:root:Loading report from cache/docs/PotReportLittleHallingbury07.doc\n"
       ]
      },
      {
       "output_type": "stream",
       "stream": "stderr",
       "text": [
        "ERROR:root:Unparsable date range: ?1500BC\n"
       ]
      },
      {
       "output_type": "stream",
       "stream": "stderr",
       "text": [
        "INFO:root:Processing: cache/docs/PotReportCarletonRode10-1.doc\n"
       ]
      },
      {
       "output_type": "stream",
       "stream": "stderr",
       "text": [
        "INFO:root:Loading report from cache/docs/PotReportCarletonRode10-1.doc\n"
       ]
      },
      {
       "output_type": "stream",
       "stream": "stderr",
       "text": [
        "INFO:root:Processing: cache/docs/PotReportWestMersea09.doc\n"
       ]
      },
      {
       "output_type": "stream",
       "stream": "stderr",
       "text": [
        "INFO:root:Loading report from cache/docs/PotReportWestMersea09.doc\n"
       ]
      },
      {
       "output_type": "stream",
       "stream": "stderr",
       "text": [
        "ERROR:root:Unparsable date range: AD50-400\n"
       ]
      },
      {
       "output_type": "stream",
       "stream": "stderr",
       "text": [
        "INFO:root:Processing: cache/docs/PotReportChediston07.doc\n"
       ]
      },
      {
       "output_type": "stream",
       "stream": "stderr",
       "text": [
        "INFO:root:Loading report from cache/docs/PotReportChediston07.doc\n"
       ]
      },
      {
       "output_type": "stream",
       "stream": "stderr",
       "text": [
        "INFO:root:Processing: cache/docs/PotReportHoughtonAndWyton08-1.doc\n"
       ]
      },
      {
       "output_type": "stream",
       "stream": "stderr",
       "text": [
        "INFO:root:Loading report from cache/docs/PotReportHoughtonAndWyton08-1.doc\n"
       ]
      },
      {
       "output_type": "stream",
       "stream": "stderr",
       "text": [
        "INFO:root:Processing: cache/docs/PotReportCarletonRode07.doc\n"
       ]
      },
      {
       "output_type": "stream",
       "stream": "stderr",
       "text": [
        "INFO:root:Loading report from cache/docs/PotReportCarletonRode07.doc\n"
       ]
      },
      {
       "output_type": "stream",
       "stream": "stderr",
       "text": [
        "INFO:root:Processing: cache/docs/PotReportBramford12.doc\n"
       ]
      },
      {
       "output_type": "stream",
       "stream": "stderr",
       "text": [
        "INFO:root:Loading report from cache/docs/PotReportBramford12.doc\n"
       ]
      },
      {
       "output_type": "stream",
       "stream": "stderr",
       "text": [
        "INFO:root:Processing: cache/docs/PotReportRamsey09.doc\n"
       ]
      },
      {
       "output_type": "stream",
       "stream": "stderr",
       "text": [
        "INFO:root:Loading report from cache/docs/PotReportRamsey09.doc\n"
       ]
      },
      {
       "output_type": "stream",
       "stream": "stderr",
       "text": [
        "INFO:root:Processing: cache/docs/PotReportLittleHallingbury08.doc\n"
       ]
      },
      {
       "output_type": "stream",
       "stream": "stderr",
       "text": [
        "INFO:root:Loading report from cache/docs/PotReportLittleHallingbury08.doc\n"
       ]
      },
      {
       "output_type": "stream",
       "stream": "stderr",
       "text": [
        "INFO:root:Processing: cache/docs/PotReportShefford12.doc\n"
       ]
      },
      {
       "output_type": "stream",
       "stream": "stderr",
       "text": [
        "INFO:root:Loading report from cache/docs/PotReportShefford12.doc\n"
       ]
      },
      {
       "output_type": "stream",
       "stream": "stderr",
       "text": [
        "INFO:root:Processing: cache/docs/PotReportChediston08.doc\n"
       ]
      },
      {
       "output_type": "stream",
       "stream": "stderr",
       "text": [
        "INFO:root:Loading report from cache/docs/PotReportChediston08.doc\n"
       ]
      },
      {
       "output_type": "stream",
       "stream": "stderr",
       "text": [
        "INFO:root:Processing: cache/docs/PotReportLittleHallingbury09.doc\n"
       ]
      },
      {
       "output_type": "stream",
       "stream": "stderr",
       "text": [
        "INFO:root:Loading report from cache/docs/PotReportLittleHallingbury09.doc\n"
       ]
      },
      {
       "output_type": "stream",
       "stream": "stderr",
       "text": [
        "INFO:root:Processing: cache/docs/PotReportWisbechStMary06.doc\n"
       ]
      },
      {
       "output_type": "stream",
       "stream": "stderr",
       "text": [
        "INFO:root:Loading report from cache/docs/PotReportWisbechStMary06.doc\n"
       ]
      },
      {
       "output_type": "stream",
       "stream": "stderr",
       "text": [
        "ERROR:root:Unparsable date range: 400BC-AD200\n"
       ]
      },
      {
       "output_type": "stream",
       "stream": "stderr",
       "text": [
        "ERROR:root:Unparsable date range: 400BC-AD400\n"
       ]
      },
      {
       "output_type": "stream",
       "stream": "stderr",
       "text": [
        "INFO:root:Processing: cache/docs/PotReportThorney10.doc\n"
       ]
      },
      {
       "output_type": "stream",
       "stream": "stderr",
       "text": [
        "INFO:root:Loading report from cache/docs/PotReportThorney10.doc\n"
       ]
      },
      {
       "output_type": "stream",
       "stream": "stderr",
       "text": [
        "WARNING:root:Skipping table since second heading is not \"Cntxt\" or \"Context\" or \"Spit\" or \"Cntx\" (= \"Text\").\n"
       ]
      },
      {
       "output_type": "stream",
       "stream": "stderr",
       "text": [
        "WARNING:root:Skipping table since second heading is not \"Cntxt\" or \"Context\" or \"Spit\" or \"Cntx\" (= \"Text\").\n"
       ]
      },
      {
       "output_type": "stream",
       "stream": "stderr",
       "text": [
        "WARNING:root:Skipping table since second heading is not \"Cntxt\" or \"Context\" or \"Spit\" or \"Cntx\" (= \"Text\").\n"
       ]
      },
      {
       "output_type": "stream",
       "stream": "stderr",
       "text": [
        "WARNING:root:Skipping table since second heading is not \"Cntxt\" or \"Context\" or \"Spit\" or \"Cntx\" (= \"Text\").\n"
       ]
      },
      {
       "output_type": "stream",
       "stream": "stderr",
       "text": [
        "WARNING:root:Skipping table since second heading is not \"Cntxt\" or \"Context\" or \"Spit\" or \"Cntx\" (= \"Text\").\n"
       ]
      },
      {
       "output_type": "stream",
       "stream": "stderr",
       "text": [
        "WARNING:root:Skipping table since second heading is not \"Cntxt\" or \"Context\" or \"Spit\" or \"Cntx\" (= \"Text\").\n"
       ]
      },
      {
       "output_type": "stream",
       "stream": "stderr",
       "text": [
        "WARNING:root:Skipping table since second heading is not \"Cntxt\" or \"Context\" or \"Spit\" or \"Cntx\" (= \"Text\").\n"
       ]
      },
      {
       "output_type": "stream",
       "stream": "stderr",
       "text": [
        "WARNING:root:Skipping table since second heading is not \"Cntxt\" or \"Context\" or \"Spit\" or \"Cntx\" (= \"Text\").\n"
       ]
      },
      {
       "output_type": "stream",
       "stream": "stderr",
       "text": [
        "WARNING:root:Skipping table since second heading is not \"Cntxt\" or \"Context\" or \"Spit\" or \"Cntx\" (= \"Text\").\n"
       ]
      },
      {
       "output_type": "stream",
       "stream": "stderr",
       "text": [
        "WARNING:root:Skipping table since second heading is not \"Cntxt\" or \"Context\" or \"Spit\" or \"Cntx\" (= \"Text\").\n"
       ]
      },
      {
       "output_type": "stream",
       "stream": "stderr",
       "text": [
        "WARNING:root:Skipping table since second heading is not \"Cntxt\" or \"Context\" or \"Spit\" or \"Cntx\" (= \"Text\").\n"
       ]
      },
      {
       "output_type": "stream",
       "stream": "stderr",
       "text": [
        "INFO:root:Processing: cache/docs/PotReportGreatShelford08.doc\n"
       ]
      },
      {
       "output_type": "stream",
       "stream": "stderr",
       "text": [
        "INFO:root:Loading report from cache/docs/PotReportGreatShelford08.doc\n"
       ]
      },
      {
       "output_type": "stream",
       "stream": "stderr",
       "text": [
        "INFO:root:Processing: cache/docs/PotReportWrittle11.doc\n"
       ]
      },
      {
       "output_type": "stream",
       "stream": "stderr",
       "text": [
        "INFO:root:Loading report from cache/docs/PotReportWrittle11.doc\n"
       ]
      },
      {
       "output_type": "stream",
       "stream": "stderr",
       "text": [
        "INFO:root:Processing: cache/docs/PotReportKibworth09.doc\n"
       ]
      },
      {
       "output_type": "stream",
       "stream": "stderr",
       "text": [
        "INFO:root:Loading report from cache/docs/PotReportKibworth09.doc\n"
       ]
      },
      {
       "output_type": "stream",
       "stream": "stderr",
       "text": [
        "INFO:root:Processing: cache/docs/PotReportCastor11.doc\n"
       ]
      },
      {
       "output_type": "stream",
       "stream": "stderr",
       "text": [
        "INFO:root:Loading report from cache/docs/PotReportCastor11.doc\n"
       ]
      },
      {
       "output_type": "stream",
       "stream": "stderr",
       "text": [
        "INFO:root:Processing: cache/docs/PotReportPotton12.doc\n"
       ]
      },
      {
       "output_type": "stream",
       "stream": "stderr",
       "text": [
        "INFO:root:Loading report from cache/docs/PotReportPotton12.doc\n"
       ]
      },
      {
       "output_type": "stream",
       "stream": "stderr",
       "text": [
        "INFO:root:Processing: cache/docs/PotReportCottenham10.doc\n"
       ]
      },
      {
       "output_type": "stream",
       "stream": "stderr",
       "text": [
        "INFO:root:Loading report from cache/docs/PotReportCottenham10.doc\n"
       ]
      },
      {
       "output_type": "stream",
       "stream": "stderr",
       "text": [
        "WARNING:root:Skipping table since first heading is not \"TP\" or \"Test Pit\" (= \"1\").\n"
       ]
      },
      {
       "output_type": "stream",
       "stream": "stderr",
       "text": [
        "WARNING:root:Skipping table since first heading is not \"TP\" or \"Test Pit\" (= \"1\").\n"
       ]
      },
      {
       "output_type": "stream",
       "stream": "stderr",
       "text": [
        "WARNING:root:Skipping table since first heading is not \"TP\" or \"Test Pit\" (= \"1\").\n"
       ]
      },
      {
       "output_type": "stream",
       "stream": "stderr",
       "text": [
        "WARNING:root:Skipping table since first heading is not \"TP\" or \"Test Pit\" (= \"1\").\n"
       ]
      },
      {
       "output_type": "stream",
       "stream": "stderr",
       "text": [
        "WARNING:root:Skipping table since first heading is not \"TP\" or \"Test Pit\" (= \"1\").\n"
       ]
      },
      {
       "output_type": "stream",
       "stream": "stderr",
       "text": [
        "WARNING:root:Skipping table since first heading is not \"TP\" or \"Test Pit\" (= \"1\").\n"
       ]
      },
      {
       "output_type": "stream",
       "stream": "stderr",
       "text": [
        "WARNING:root:Skipping table since first heading is not \"TP\" or \"Test Pit\" (= \"1\").\n"
       ]
      },
      {
       "output_type": "stream",
       "stream": "stderr",
       "text": [
        "WARNING:root:Skipping table since first heading is not \"TP\" or \"Test Pit\" (= \"1\").\n"
       ]
      },
      {
       "output_type": "stream",
       "stream": "stderr",
       "text": [
        "WARNING:root:Skipping table since first heading is not \"TP\" or \"Test Pit\" (= \"BCHIN\").\n"
       ]
      },
      {
       "output_type": "stream",
       "stream": "stderr",
       "text": [
        "INFO:root:Processing: cache/docs/PotReportSharnbrook07.doc\n"
       ]
      },
      {
       "output_type": "stream",
       "stream": "stderr",
       "text": [
        "INFO:root:Loading report from cache/docs/PotReportSharnbrook07.doc\n"
       ]
      },
      {
       "output_type": "stream",
       "stream": "stderr",
       "text": [
        "INFO:root:Processing: cache/docs/PotReportThorrington07.doc\n"
       ]
      },
      {
       "output_type": "stream",
       "stream": "stderr",
       "text": [
        "INFO:root:Loading report from cache/docs/PotReportThorrington07.doc\n"
       ]
      },
      {
       "output_type": "stream",
       "stream": "stderr",
       "text": [
        "ERROR:root:Unparsable date range: AD100-1900\n"
       ]
      },
      {
       "output_type": "stream",
       "stream": "stderr",
       "text": [
        "ERROR:root:Unparsable date range: AD100-1900\n"
       ]
      },
      {
       "output_type": "stream",
       "stream": "stderr",
       "text": [
        "INFO:root:Processing: cache/docs/PotReportPeakirk12-2.doc\n"
       ]
      },
      {
       "output_type": "stream",
       "stream": "stderr",
       "text": [
        "INFO:root:Loading report from cache/docs/PotReportPeakirk12-2.doc\n"
       ]
      },
      {
       "output_type": "stream",
       "stream": "stderr",
       "text": [
        "INFO:root:Processing: cache/docs/PotReportThorrington06.doc\n"
       ]
      },
      {
       "output_type": "stream",
       "stream": "stderr",
       "text": [
        "INFO:root:Loading report from cache/docs/PotReportThorrington06.doc\n"
       ]
      },
      {
       "output_type": "stream",
       "stream": "stderr",
       "text": [
        "INFO:root:Processing: cache/docs/PotReportWillingham09.doc\n"
       ]
      },
      {
       "output_type": "stream",
       "stream": "stderr",
       "text": [
        "INFO:root:Loading report from cache/docs/PotReportWillingham09.doc\n"
       ]
      },
      {
       "output_type": "stream",
       "stream": "stderr",
       "text": [
        "ERROR:root:Unparsable date range: 500BC-AD200\n"
       ]
      },
      {
       "output_type": "stream",
       "stream": "stderr",
       "text": [
        "INFO:root:Processing: cache/docs/PotReportGarboldisham12.doc\n"
       ]
      },
      {
       "output_type": "stream",
       "stream": "stderr",
       "text": [
        "INFO:root:Loading report from cache/docs/PotReportGarboldisham12.doc\n"
       ]
      },
      {
       "output_type": "stream",
       "stream": "stderr",
       "text": [
        "INFO:root:Processing: cache/docs/PotReportSharrnbrook11-2.doc\n"
       ]
      },
      {
       "output_type": "stream",
       "stream": "stderr",
       "text": [
        "INFO:root:Loading report from cache/docs/PotReportSharrnbrook11-2.doc\n"
       ]
      },
      {
       "output_type": "stream",
       "stream": "stderr",
       "text": [
        "INFO:root:Processing: cache/docs/PotReportCastor09.doc\n"
       ]
      },
      {
       "output_type": "stream",
       "stream": "stderr",
       "text": [
        "INFO:root:Loading report from cache/docs/PotReportCastor09.doc\n"
       ]
      },
      {
       "output_type": "stream",
       "stream": "stderr",
       "text": [
        "INFO:root:Processing: cache/docs/PotReportWrittle10.doc\n"
       ]
      },
      {
       "output_type": "stream",
       "stream": "stderr",
       "text": [
        "INFO:root:Loading report from cache/docs/PotReportWrittle10.doc\n"
       ]
      },
      {
       "output_type": "stream",
       "stream": "stderr",
       "text": [
        "INFO:root:Processing: cache/docs/PotReportRougham10.doc\n"
       ]
      },
      {
       "output_type": "stream",
       "stream": "stderr",
       "text": [
        "INFO:root:Loading report from cache/docs/PotReportRougham10.doc\n"
       ]
      },
      {
       "output_type": "stream",
       "stream": "stderr",
       "text": [
        "INFO:root:Processing: cache/docs/PotReportAcle11.doc\n"
       ]
      },
      {
       "output_type": "stream",
       "stream": "stderr",
       "text": [
        "INFO:root:Loading report from cache/docs/PotReportAcle11.doc\n"
       ]
      },
      {
       "output_type": "stream",
       "stream": "stderr",
       "text": [
        "INFO:root:Processing: cache/docs/PotReportBinham12-1.doc\n"
       ]
      },
      {
       "output_type": "stream",
       "stream": "stderr",
       "text": [
        "INFO:root:Loading report from cache/docs/PotReportBinham12-1.doc\n"
       ]
      },
      {
       "output_type": "stream",
       "stream": "stderr",
       "text": [
        "INFO:root:Processing: cache/docs/PotReportCastleton09.doc\n"
       ]
      },
      {
       "output_type": "stream",
       "stream": "stderr",
       "text": [
        "INFO:root:Loading report from cache/docs/PotReportCastleton09.doc\n"
       ]
      },
      {
       "output_type": "stream",
       "stream": "stderr",
       "text": [
        "WARNING:root:Skipping table since first heading is not \"TP\" or \"Test Pit\" (= \"1\").\n"
       ]
      },
      {
       "output_type": "stream",
       "stream": "stderr",
       "text": [
        "WARNING:root:Skipping table since first heading is not \"TP\" or \"Test Pit\" (= \"2\").\n"
       ]
      },
      {
       "output_type": "stream",
       "stream": "stderr",
       "text": [
        "WARNING:root:Skipping table since first heading is not \"TP\" or \"Test Pit\" (= \"3\").\n"
       ]
      },
      {
       "output_type": "stream",
       "stream": "stderr",
       "text": [
        "WARNING:root:Skipping table since first heading is not \"TP\" or \"Test Pit\" (= \"4\").\n"
       ]
      },
      {
       "output_type": "stream",
       "stream": "stderr",
       "text": [
        "WARNING:root:Skipping table since first heading is not \"TP\" or \"Test Pit\" (= \"BS\").\n"
       ]
      },
      {
       "output_type": "stream",
       "stream": "stderr",
       "text": [
        "INFO:root:Processing: cache/docs/PotReportGreatShelford11.doc\n"
       ]
      },
      {
       "output_type": "stream",
       "stream": "stderr",
       "text": [
        "INFO:root:Loading report from cache/docs/PotReportGreatShelford11.doc\n"
       ]
      },
      {
       "output_type": "stream",
       "stream": "stderr",
       "text": [
        "INFO:root:Processing: cache/docs/PotReportSharnbrook10-2.doc\n"
       ]
      },
      {
       "output_type": "stream",
       "stream": "stderr",
       "text": [
        "INFO:root:Loading report from cache/docs/PotReportSharnbrook10-2.doc\n"
       ]
      },
      {
       "output_type": "stream",
       "stream": "stderr",
       "text": [
        "INFO:root:Processing: cache/docs/PotReportHessett09.doc\n"
       ]
      },
      {
       "output_type": "stream",
       "stream": "stderr",
       "text": [
        "INFO:root:Loading report from cache/docs/PotReportHessett09.doc\n"
       ]
      },
      {
       "output_type": "stream",
       "stream": "stderr",
       "text": [
        "INFO:root:Processing: cache/docs/PotReportCoddenham06.doc\n"
       ]
      },
      {
       "output_type": "stream",
       "stream": "stderr",
       "text": [
        "INFO:root:Loading report from cache/docs/PotReportCoddenham06.doc\n"
       ]
      },
      {
       "output_type": "stream",
       "stream": "stderr",
       "text": [
        "INFO:root:Processing: cache/docs/PotReportPeakirk12-1.doc\n"
       ]
      },
      {
       "output_type": "stream",
       "stream": "stderr",
       "text": [
        "INFO:root:Loading report from cache/docs/PotReportPeakirk12-1.doc\n"
       ]
      },
      {
       "output_type": "stream",
       "stream": "stderr",
       "text": [
        "INFO:root:Processing: cache/docs/PotReportGirton10.doc\n"
       ]
      },
      {
       "output_type": "stream",
       "stream": "stderr",
       "text": [
        "INFO:root:Loading report from cache/docs/PotReportGirton10.doc\n"
       ]
      },
      {
       "output_type": "stream",
       "stream": "stderr",
       "text": [
        "INFO:root:Processing: cache/docs/PotReportGaywood11-1.doc\n"
       ]
      },
      {
       "output_type": "stream",
       "stream": "stderr",
       "text": [
        "INFO:root:Loading report from cache/docs/PotReportGaywood11-1.doc\n"
       ]
      },
      {
       "output_type": "stream",
       "stream": "stderr",
       "text": [
        "INFO:root:Processing: cache/docs/PotReportGreatShelford07.doc\n"
       ]
      },
      {
       "output_type": "stream",
       "stream": "stderr",
       "text": [
        "INFO:root:Loading report from cache/docs/PotReportGreatShelford07.doc\n"
       ]
      },
      {
       "output_type": "stream",
       "stream": "stderr",
       "text": [
        "WARNING:root:Skipping table since second heading is not \"Cntxt\" or \"Context\" or \"Spit\" or \"Cntx\" (= \"Ctxt\").\n"
       ]
      },
      {
       "output_type": "stream",
       "stream": "stderr",
       "text": [
        "INFO:root:Processing: cache/docs/PotReportHoughtonAndWyton06.doc\n"
       ]
      },
      {
       "output_type": "stream",
       "stream": "stderr",
       "text": [
        "INFO:root:Loading report from cache/docs/PotReportHoughtonAndWyton06.doc\n"
       ]
      },
      {
       "output_type": "stream",
       "stream": "stderr",
       "text": [
        "ERROR:root:Unparsable date range: \n"
       ]
      },
      {
       "output_type": "stream",
       "stream": "stderr",
       "text": [
        "INFO:root:Processing: cache/docs/WRI09-Pot-Report.doc\n"
       ]
      },
      {
       "output_type": "stream",
       "stream": "stderr",
       "text": [
        "INFO:root:Loading report from cache/docs/WRI09-Pot-Report.doc\n"
       ]
      },
      {
       "output_type": "stream",
       "stream": "stderr",
       "text": [
        "INFO:root:Processing: cache/docs/PotReportThorney06.doc\n"
       ]
      },
      {
       "output_type": "stream",
       "stream": "stderr",
       "text": [
        "INFO:root:Loading report from cache/docs/PotReportThorney06.doc\n"
       ]
      }
     ],
     "prompt_number": 5
    },
    {
     "cell_type": "code",
     "collapsed": false,
     "input": [],
     "language": "python",
     "metadata": {},
     "outputs": []
    }
   ],
   "metadata": {}
  }
 ]
}